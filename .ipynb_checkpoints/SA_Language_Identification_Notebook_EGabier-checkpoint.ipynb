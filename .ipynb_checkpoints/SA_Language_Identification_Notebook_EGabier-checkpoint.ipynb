{
 "cells": [
  {
   "cell_type": "markdown",
   "id": "5d45c27e",
   "metadata": {},
   "source": [
    "# South African Language Identification "
   ]
  },
  {
   "cell_type": "markdown",
   "id": "4b0d04c2",
   "metadata": {},
   "source": [
    "South Africa is home to 11 official languages. With the use of  NLP's Language Identification, the aim of this challenge is to determine which piece of text represents which South African language."
   ]
  },
  {
   "cell_type": "markdown",
   "id": "b5fc7126",
   "metadata": {},
   "source": [
    "## Import Packages"
   ]
  },
  {
   "cell_type": "markdown",
   "id": "4d891969",
   "metadata": {},
   "source": [
    "To perform various tasks, the following necessary dependencies were loaded:"
   ]
  },
  {
   "cell_type": "code",
   "execution_count": 239,
   "id": "52d53d04",
   "metadata": {},
   "outputs": [],
   "source": [
    "# Libraries for data loading, manipulation and analysis\n",
    "import numpy as np\n",
    "import pandas as pd\n",
    "\n",
    "# Libraries for Natural Language processing\n",
    "import nltk\n",
    "from nltk.corpus import stopwords\n",
    "from nltk.tokenize import word_tokenize, TreebankWordTokenizer\n",
    "from nltk.stem import WordNetLemmatizer\n",
    "\n",
    "# Libraries for Data Preparation and Model Building\n",
    "from sklearn.model_selection import train_test_split\n",
    "from sklearn.linear_model import LogisticRegression\n",
    "from sklearn.naive_bayes import MultinomialNB\n",
    "from sklearn.svm import SVC\n",
    "from sklearn.preprocessing import LabelEncoder\n",
    "from sklearn.feature_extraction.text import CountVectorizer\n",
    "\n",
    "# Libraries for Model Evaluation\n",
    "from sklearn.metrics import classification_report, accuracy_score\n",
    "from sklearn import metrics\n",
    "\n",
    "# Libraries for Handing Errors\n",
    "import warnings\n",
    "warnings.filterwarnings('ignore')"
   ]
  },
  {
   "cell_type": "markdown",
   "id": "959a9cd2",
   "metadata": {},
   "source": [
    "## Import Dataset"
   ]
  },
  {
   "cell_type": "markdown",
   "id": "25d73168",
   "metadata": {},
   "source": [
    "For this challenge, the South African Language Identification Hack 2022 dataset was downloaded from [Kaggle](https://www.kaggle.com/competitions/south-african-language-identification-hack-2022)."
   ]
  },
  {
   "cell_type": "code",
   "execution_count": 240,
   "id": "ac693835",
   "metadata": {},
   "outputs": [],
   "source": [
    "# Import training dataset\n",
    "train = pd.read_csv(\"train_set.csv\")"
   ]
  },
  {
   "cell_type": "code",
   "execution_count": 241,
   "id": "06c66128",
   "metadata": {},
   "outputs": [],
   "source": [
    "# Copy training dataset\n",
    "train_copy = train.copy()"
   ]
  },
  {
   "cell_type": "markdown",
   "id": "bcf53065",
   "metadata": {},
   "source": [
    "## Exploratory Data Analysis (EDA)"
   ]
  },
  {
   "cell_type": "markdown",
   "id": "98c1952e",
   "metadata": {},
   "source": [
    "The EDA is the inital task in which we can investigate the dataframe's main characteristics."
   ]
  },
  {
   "cell_type": "code",
   "execution_count": 117,
   "id": "f880b5d8",
   "metadata": {},
   "outputs": [
    {
     "data": {
      "text/html": [
       "<div>\n",
       "<style scoped>\n",
       "    .dataframe tbody tr th:only-of-type {\n",
       "        vertical-align: middle;\n",
       "    }\n",
       "\n",
       "    .dataframe tbody tr th {\n",
       "        vertical-align: top;\n",
       "    }\n",
       "\n",
       "    .dataframe thead th {\n",
       "        text-align: right;\n",
       "    }\n",
       "</style>\n",
       "<table border=\"1\" class=\"dataframe\">\n",
       "  <thead>\n",
       "    <tr style=\"text-align: right;\">\n",
       "      <th></th>\n",
       "      <th>index</th>\n",
       "      <th>text</th>\n",
       "    </tr>\n",
       "  </thead>\n",
       "  <tbody>\n",
       "    <tr>\n",
       "      <th>0</th>\n",
       "      <td>1</td>\n",
       "      <td>mmasepala fa maemo kgethegileng letlelela kgat...</td>\n",
       "    </tr>\n",
       "    <tr>\n",
       "      <th>1</th>\n",
       "      <td>2</td>\n",
       "      <td>uzakwaziswa ngokufaneleko nakungafuneka eminye...</td>\n",
       "    </tr>\n",
       "    <tr>\n",
       "      <th>2</th>\n",
       "      <td>3</td>\n",
       "      <td>tshivhumbeo tshi fana na ngano dza vhathu</td>\n",
       "    </tr>\n",
       "    <tr>\n",
       "      <th>3</th>\n",
       "      <td>4</td>\n",
       "      <td>kube inja nelikati betingevakala kutsi titsini...</td>\n",
       "    </tr>\n",
       "    <tr>\n",
       "      <th>4</th>\n",
       "      <td>5</td>\n",
       "      <td>winste op buitelandse valuta</td>\n",
       "    </tr>\n",
       "  </tbody>\n",
       "</table>\n",
       "</div>"
      ],
      "text/plain": [
       "   index                                               text\n",
       "0      1  mmasepala fa maemo kgethegileng letlelela kgat...\n",
       "1      2  uzakwaziswa ngokufaneleko nakungafuneka eminye...\n",
       "2      3          tshivhumbeo tshi fana na ngano dza vhathu\n",
       "3      4  kube inja nelikati betingevakala kutsi titsini...\n",
       "4      5                       winste op buitelandse valuta"
      ]
     },
     "execution_count": 117,
     "metadata": {},
     "output_type": "execute_result"
    }
   ],
   "source": [
    "# View the top 5 rows\n",
    "test_copy.head()"
   ]
  },
  {
   "cell_type": "code",
   "execution_count": 118,
   "id": "dd3f2415",
   "metadata": {},
   "outputs": [
    {
     "name": "stdout",
     "output_type": "stream",
     "text": [
      "<class 'pandas.core.frame.DataFrame'>\n",
      "RangeIndex: 5682 entries, 0 to 5681\n",
      "Data columns (total 2 columns):\n",
      " #   Column  Non-Null Count  Dtype \n",
      "---  ------  --------------  ----- \n",
      " 0   index   5682 non-null   int64 \n",
      " 1   text    5682 non-null   object\n",
      "dtypes: int64(1), object(1)\n",
      "memory usage: 88.9+ KB\n"
     ]
    }
   ],
   "source": [
    "# View data type and non-null count\n",
    "test_copy.info()"
   ]
  },
  {
   "cell_type": "markdown",
   "id": "78a28e1a",
   "metadata": {},
   "source": [
    "## Preprocessing"
   ]
  },
  {
   "cell_type": "markdown",
   "id": "e46ccd5a",
   "metadata": {},
   "source": [
    "To ensure the dataframe is in the appropriate format before building models for prediction."
   ]
  },
  {
   "cell_type": "code",
   "execution_count": 242,
   "id": "10c6633c",
   "metadata": {},
   "outputs": [],
   "source": [
    "# converts labels into a numeric format\n",
    "enc = LabelEncoder()\n",
    "train_copy['lang_id'] = enc.fit_transform(train_copy['lang_id'])"
   ]
  },
  {
   "cell_type": "code",
   "execution_count": 243,
   "id": "76c726d3",
   "metadata": {},
   "outputs": [
    {
     "data": {
      "text/html": [
       "<div>\n",
       "<style scoped>\n",
       "    .dataframe tbody tr th:only-of-type {\n",
       "        vertical-align: middle;\n",
       "    }\n",
       "\n",
       "    .dataframe tbody tr th {\n",
       "        vertical-align: top;\n",
       "    }\n",
       "\n",
       "    .dataframe thead th {\n",
       "        text-align: right;\n",
       "    }\n",
       "</style>\n",
       "<table border=\"1\" class=\"dataframe\">\n",
       "  <thead>\n",
       "    <tr style=\"text-align: right;\">\n",
       "      <th></th>\n",
       "      <th>lang_id</th>\n",
       "      <th>text</th>\n",
       "    </tr>\n",
       "  </thead>\n",
       "  <tbody>\n",
       "    <tr>\n",
       "      <th>0</th>\n",
       "      <td>9</td>\n",
       "      <td>umgaqo-siseko wenza amalungiselelo kumaziko ax...</td>\n",
       "    </tr>\n",
       "    <tr>\n",
       "      <th>1</th>\n",
       "      <td>9</td>\n",
       "      <td>i-dha iya kuba nobulumko bokubeka umsebenzi na...</td>\n",
       "    </tr>\n",
       "    <tr>\n",
       "      <th>2</th>\n",
       "      <td>1</td>\n",
       "      <td>the province of kwazulu-natal department of tr...</td>\n",
       "    </tr>\n",
       "    <tr>\n",
       "      <th>3</th>\n",
       "      <td>3</td>\n",
       "      <td>o netefatša gore o ba file dilo ka moka tše le...</td>\n",
       "    </tr>\n",
       "    <tr>\n",
       "      <th>4</th>\n",
       "      <td>8</td>\n",
       "      <td>khomishini ya ndinganyiso ya mbeu yo ewa maana...</td>\n",
       "    </tr>\n",
       "  </tbody>\n",
       "</table>\n",
       "</div>"
      ],
      "text/plain": [
       "   lang_id                                               text\n",
       "0        9  umgaqo-siseko wenza amalungiselelo kumaziko ax...\n",
       "1        9  i-dha iya kuba nobulumko bokubeka umsebenzi na...\n",
       "2        1  the province of kwazulu-natal department of tr...\n",
       "3        3  o netefatša gore o ba file dilo ka moka tše le...\n",
       "4        8  khomishini ya ndinganyiso ya mbeu yo ewa maana..."
      ]
     },
     "execution_count": 243,
     "metadata": {},
     "output_type": "execute_result"
    }
   ],
   "source": [
    "# view top 5 rows\n",
    "train_copy.head()"
   ]
  },
  {
   "cell_type": "code",
   "execution_count": 244,
   "id": "c66bb2ea",
   "metadata": {},
   "outputs": [
    {
     "data": {
      "text/plain": [
       "<AxesSubplot:>"
      ]
     },
     "execution_count": 244,
     "metadata": {},
     "output_type": "execute_result"
    },
    {
     "data": {
      "image/png": "[encoded data removed]",
      "text/plain": [
       "<Figure size 432x288 with 1 Axes>"
      ]
     },
     "metadata": {
      "needs_background": "light"
     },
     "output_type": "display_data"
    }
   ],
   "source": [
    "# Count and plot\n",
    "x=train_copy['lang_id'].value_counts()\n",
    "x.plot(kind='bar')"
   ]
  },
  {
   "cell_type": "code",
   "execution_count": 245,
   "id": "4ef00967",
   "metadata": {},
   "outputs": [],
   "source": [
    "# Function sets lowercase and removes punctuations\n",
    "def remove_punctuations(case):\n",
    "    import string\n",
    "    case = ''.join([i for i in case if i not in string.punctuation])\n",
    "    \n",
    "    user_output=case.lower().strip()\n",
    "    return user_output\n",
    "\n",
    "train_copy['text'] = train_copy['text'].apply(remove_punctuations)"
   ]
  },
  {
   "cell_type": "code",
   "execution_count": 246,
   "id": "798618a8",
   "metadata": {},
   "outputs": [],
   "source": [
    "# Function removes stopwords\n",
    "stop_words = stopwords.words('english')\n",
    "\n",
    "def cleaning_stopwords(text):\n",
    "    return \" \".join([i for i in str(text).split() if i not in stop_words])\n",
    "\n",
    "train_copy['text']= train_copy['text'].apply(lambda text: cleaning_stopwords(text))"
   ]
  },
  {
   "cell_type": "code",
   "execution_count": 247,
   "id": "770954c5",
   "metadata": {},
   "outputs": [],
   "source": [
    "# Function creates tokens\n",
    "def tokenize(words):\n",
    "    tokeniser = TreebankWordTokenizer()\n",
    "    \n",
    "    return tokeniser.tokenize(words)\n",
    "train_copy['text'] = train_copy['text'].apply(lambda text: cleaning_stopwords(text))"
   ]
  },
  {
   "cell_type": "code",
   "execution_count": 248,
   "id": "33673978",
   "metadata": {},
   "outputs": [],
   "source": [
    "# Selection of X and y\n",
    "X =train_copy['text']\n",
    "y =train_copy['lang_id']"
   ]
  },
  {
   "cell_type": "code",
   "execution_count": 249,
   "id": "3e469335",
   "metadata": {},
   "outputs": [],
   "source": [
    "# Split into train and test\n",
    "X_train, X_test, y_train, y_test = train_test_split(X, y, test_size=0.2, random_state=1)"
   ]
  },
  {
   "cell_type": "code",
   "execution_count": 250,
   "id": "24268bdd",
   "metadata": {},
   "outputs": [],
   "source": [
    "# Vectorization\n",
    "vector = CountVectorizer(max_features=100000)\n",
    "vector.fit(X_train)\n",
    "X_train = vector.transform(X_train)\n",
    "X_test = vector.transform(X_test)"
   ]
  },
  {
   "cell_type": "code",
   "execution_count": 251,
   "id": "b9dfe4b4",
   "metadata": {},
   "outputs": [
    {
     "name": "stdout",
     "output_type": "stream",
     "text": [
      "(26400, 100000)\n",
      "(6600, 100000)\n"
     ]
    }
   ],
   "source": [
    "print(X_train.shape)\n",
    "print(X_test.shape)"
   ]
  },
  {
   "cell_type": "markdown",
   "id": "aa8d254f",
   "metadata": {},
   "source": [
    "## Model Building"
   ]
  },
  {
   "cell_type": "markdown",
   "id": "9e172874",
   "metadata": {},
   "source": [
    "#### Naive Bayes"
   ]
  },
  {
   "cell_type": "code",
   "execution_count": 238,
   "id": "69c3844f",
   "metadata": {},
   "outputs": [
    {
     "data": {
      "text/html": [
       "<style>#sk-container-id-9 {color: black;background-color: white;}#sk-container-id-9 pre{padding: 0;}#sk-container-id-9 div.sk-toggleable {background-color: white;}#sk-container-id-9 label.sk-toggleable__label {cursor: pointer;display: block;width: 100%;margin-bottom: 0;padding: 0.3em;box-sizing: border-box;text-align: center;}#sk-container-id-9 label.sk-toggleable__label-arrow:before {content: \"▸\";float: left;margin-right: 0.25em;color: #696969;}#sk-container-id-9 label.sk-toggleable__label-arrow:hover:before {color: black;}#sk-container-id-9 div.sk-estimator:hover label.sk-toggleable__label-arrow:before {color: black;}#sk-container-id-9 div.sk-toggleable__content {max-height: 0;max-width: 0;overflow: hidden;text-align: left;background-color: #f0f8ff;}#sk-container-id-9 div.sk-toggleable__content pre {margin: 0.2em;color: black;border-radius: 0.25em;background-color: #f0f8ff;}#sk-container-id-9 input.sk-toggleable__control:checked~div.sk-toggleable__content {max-height: 200px;max-width: 100%;overflow: auto;}#sk-container-id-9 input.sk-toggleable__control:checked~label.sk-toggleable__label-arrow:before {content: \"▾\";}#sk-container-id-9 div.sk-estimator input.sk-toggleable__control:checked~label.sk-toggleable__label {background-color: #d4ebff;}#sk-container-id-9 div.sk-label input.sk-toggleable__control:checked~label.sk-toggleable__label {background-color: #d4ebff;}#sk-container-id-9 input.sk-hidden--visually {border: 0;clip: rect(1px 1px 1px 1px);clip: rect(1px, 1px, 1px, 1px);height: 1px;margin: -1px;overflow: hidden;padding: 0;position: absolute;width: 1px;}#sk-container-id-9 div.sk-estimator {font-family: monospace;background-color: #f0f8ff;border: 1px dotted black;border-radius: 0.25em;box-sizing: border-box;margin-bottom: 0.5em;}#sk-container-id-9 div.sk-estimator:hover {background-color: #d4ebff;}#sk-container-id-9 div.sk-parallel-item::after {content: \"\";width: 100%;border-bottom: 1px solid gray;flex-grow: 1;}#sk-container-id-9 div.sk-label:hover label.sk-toggleable__label {background-color: #d4ebff;}#sk-container-id-9 div.sk-serial::before {content: \"\";position: absolute;border-left: 1px solid gray;box-sizing: border-box;top: 0;bottom: 0;left: 50%;z-index: 0;}#sk-container-id-9 div.sk-serial {display: flex;flex-direction: column;align-items: center;background-color: white;padding-right: 0.2em;padding-left: 0.2em;position: relative;}#sk-container-id-9 div.sk-item {position: relative;z-index: 1;}#sk-container-id-9 div.sk-parallel {display: flex;align-items: stretch;justify-content: center;background-color: white;position: relative;}#sk-container-id-9 div.sk-item::before, #sk-container-id-9 div.sk-parallel-item::before {content: \"\";position: absolute;border-left: 1px solid gray;box-sizing: border-box;top: 0;bottom: 0;left: 50%;z-index: -1;}#sk-container-id-9 div.sk-parallel-item {display: flex;flex-direction: column;z-index: 1;position: relative;background-color: white;}#sk-container-id-9 div.sk-parallel-item:first-child::after {align-self: flex-end;width: 50%;}#sk-container-id-9 div.sk-parallel-item:last-child::after {align-self: flex-start;width: 50%;}#sk-container-id-9 div.sk-parallel-item:only-child::after {width: 0;}#sk-container-id-9 div.sk-dashed-wrapped {border: 1px dashed gray;margin: 0 0.4em 0.5em 0.4em;box-sizing: border-box;padding-bottom: 0.4em;background-color: white;}#sk-container-id-9 div.sk-label label {font-family: monospace;font-weight: bold;display: inline-block;line-height: 1.2em;}#sk-container-id-9 div.sk-label-container {text-align: center;}#sk-container-id-9 div.sk-container {/* jupyter's `normalize.less` sets `[hidden] { display: none; }` but bootstrap.min.css set `[hidden] { display: none !important; }` so we also need the `!important` here to be able to override the default hidden behavior on the sphinx rendered scikit-learn.org. See: https://github.com/scikit-learn/scikit-learn/issues/21755 */display: inline-block !important;position: relative;}#sk-container-id-9 div.sk-text-repr-fallback {display: none;}</style><div id=\"sk-container-id-9\" class=\"sk-top-container\"><div class=\"sk-text-repr-fallback\"><pre>MultinomialNB(alpha=0.1)</pre><b>In a Jupyter environment, please rerun this cell to show the HTML representation or trust the notebook. <br />On GitHub, the HTML representation is unable to render, please try loading this page with nbviewer.org.</b></div><div class=\"sk-container\" hidden><div class=\"sk-item\"><div class=\"sk-estimator sk-toggleable\"><input class=\"sk-toggleable__control sk-hidden--visually\" id=\"sk-estimator-id-9\" type=\"checkbox\" checked><label for=\"sk-estimator-id-9\" class=\"sk-toggleable__label sk-toggleable__label-arrow\">MultinomialNB</label><div class=\"sk-toggleable__content\"><pre>MultinomialNB(alpha=0.1)</pre></div></div></div></div></div>"
      ],
      "text/plain": [
       "MultinomialNB(alpha=0.1)"
      ]
     },
     "execution_count": 238,
     "metadata": {},
     "output_type": "execute_result"
    }
   ],
   "source": [
    "m_nb = MultinomialNB(alpha=0.1)\n",
    "m_nb.fit(X_train, y_train)"
   ]
  },
  {
   "cell_type": "code",
   "execution_count": 222,
   "id": "f4440c94",
   "metadata": {},
   "outputs": [],
   "source": [
    "m_nb_pred = m_nb.predict(X_test)"
   ]
  },
  {
   "cell_type": "markdown",
   "id": "bd1b0d84",
   "metadata": {},
   "source": [
    "#### KNN"
   ]
  },
  {
   "cell_type": "code",
   "execution_count": 253,
   "id": "0a2d22f5",
   "metadata": {},
   "outputs": [
    {
     "data": {
      "text/html": [
       "<style>#sk-container-id-10 {color: black;background-color: white;}#sk-container-id-10 pre{padding: 0;}#sk-container-id-10 div.sk-toggleable {background-color: white;}#sk-container-id-10 label.sk-toggleable__label {cursor: pointer;display: block;width: 100%;margin-bottom: 0;padding: 0.3em;box-sizing: border-box;text-align: center;}#sk-container-id-10 label.sk-toggleable__label-arrow:before {content: \"▸\";float: left;margin-right: 0.25em;color: #696969;}#sk-container-id-10 label.sk-toggleable__label-arrow:hover:before {color: black;}#sk-container-id-10 div.sk-estimator:hover label.sk-toggleable__label-arrow:before {color: black;}#sk-container-id-10 div.sk-toggleable__content {max-height: 0;max-width: 0;overflow: hidden;text-align: left;background-color: #f0f8ff;}#sk-container-id-10 div.sk-toggleable__content pre {margin: 0.2em;color: black;border-radius: 0.25em;background-color: #f0f8ff;}#sk-container-id-10 input.sk-toggleable__control:checked~div.sk-toggleable__content {max-height: 200px;max-width: 100%;overflow: auto;}#sk-container-id-10 input.sk-toggleable__control:checked~label.sk-toggleable__label-arrow:before {content: \"▾\";}#sk-container-id-10 div.sk-estimator input.sk-toggleable__control:checked~label.sk-toggleable__label {background-color: #d4ebff;}#sk-container-id-10 div.sk-label input.sk-toggleable__control:checked~label.sk-toggleable__label {background-color: #d4ebff;}#sk-container-id-10 input.sk-hidden--visually {border: 0;clip: rect(1px 1px 1px 1px);clip: rect(1px, 1px, 1px, 1px);height: 1px;margin: -1px;overflow: hidden;padding: 0;position: absolute;width: 1px;}#sk-container-id-10 div.sk-estimator {font-family: monospace;background-color: #f0f8ff;border: 1px dotted black;border-radius: 0.25em;box-sizing: border-box;margin-bottom: 0.5em;}#sk-container-id-10 div.sk-estimator:hover {background-color: #d4ebff;}#sk-container-id-10 div.sk-parallel-item::after {content: \"\";width: 100%;border-bottom: 1px solid gray;flex-grow: 1;}#sk-container-id-10 div.sk-label:hover label.sk-toggleable__label {background-color: #d4ebff;}#sk-container-id-10 div.sk-serial::before {content: \"\";position: absolute;border-left: 1px solid gray;box-sizing: border-box;top: 0;bottom: 0;left: 50%;z-index: 0;}#sk-container-id-10 div.sk-serial {display: flex;flex-direction: column;align-items: center;background-color: white;padding-right: 0.2em;padding-left: 0.2em;position: relative;}#sk-container-id-10 div.sk-item {position: relative;z-index: 1;}#sk-container-id-10 div.sk-parallel {display: flex;align-items: stretch;justify-content: center;background-color: white;position: relative;}#sk-container-id-10 div.sk-item::before, #sk-container-id-10 div.sk-parallel-item::before {content: \"\";position: absolute;border-left: 1px solid gray;box-sizing: border-box;top: 0;bottom: 0;left: 50%;z-index: -1;}#sk-container-id-10 div.sk-parallel-item {display: flex;flex-direction: column;z-index: 1;position: relative;background-color: white;}#sk-container-id-10 div.sk-parallel-item:first-child::after {align-self: flex-end;width: 50%;}#sk-container-id-10 div.sk-parallel-item:last-child::after {align-self: flex-start;width: 50%;}#sk-container-id-10 div.sk-parallel-item:only-child::after {width: 0;}#sk-container-id-10 div.sk-dashed-wrapped {border: 1px dashed gray;margin: 0 0.4em 0.5em 0.4em;box-sizing: border-box;padding-bottom: 0.4em;background-color: white;}#sk-container-id-10 div.sk-label label {font-family: monospace;font-weight: bold;display: inline-block;line-height: 1.2em;}#sk-container-id-10 div.sk-label-container {text-align: center;}#sk-container-id-10 div.sk-container {/* jupyter's `normalize.less` sets `[hidden] { display: none; }` but bootstrap.min.css set `[hidden] { display: none !important; }` so we also need the `!important` here to be able to override the default hidden behavior on the sphinx rendered scikit-learn.org. See: https://github.com/scikit-learn/scikit-learn/issues/21755 */display: inline-block !important;position: relative;}#sk-container-id-10 div.sk-text-repr-fallback {display: none;}</style><div id=\"sk-container-id-10\" class=\"sk-top-container\"><div class=\"sk-text-repr-fallback\"><pre>KNeighborsClassifier(n_neighbors=6)</pre><b>In a Jupyter environment, please rerun this cell to show the HTML representation or trust the notebook. <br />On GitHub, the HTML representation is unable to render, please try loading this page with nbviewer.org.</b></div><div class=\"sk-container\" hidden><div class=\"sk-item\"><div class=\"sk-estimator sk-toggleable\"><input class=\"sk-toggleable__control sk-hidden--visually\" id=\"sk-estimator-id-10\" type=\"checkbox\" checked><label for=\"sk-estimator-id-10\" class=\"sk-toggleable__label sk-toggleable__label-arrow\">KNeighborsClassifier</label><div class=\"sk-toggleable__content\"><pre>KNeighborsClassifier(n_neighbors=6)</pre></div></div></div></div></div>"
      ],
      "text/plain": [
       "KNeighborsClassifier(n_neighbors=6)"
      ]
     },
     "execution_count": 253,
     "metadata": {},
     "output_type": "execute_result"
    }
   ],
   "source": [
    "from sklearn.neighbors import KNeighborsClassifier\n",
    "KNN_model= KNeighborsClassifier(n_neighbors=6,metric='minkowski', p=2,)\n",
    "KNN_model.fit(X_train,y_train)"
   ]
  },
  {
   "cell_type": "code",
   "execution_count": 254,
   "id": "154bd2c5",
   "metadata": {},
   "outputs": [],
   "source": [
    "KNN_model_pred = KNN_model.predict(X_test)"
   ]
  },
  {
   "cell_type": "markdown",
   "id": "a4f8e891",
   "metadata": {},
   "source": [
    "## Model Performance"
   ]
  },
  {
   "cell_type": "code",
   "execution_count": 224,
   "id": "7732faa4",
   "metadata": {},
   "outputs": [
    {
     "name": "stdout",
     "output_type": "stream",
     "text": [
      "              precision    recall  f1-score   support\n",
      "\n",
      "           0       0.00      0.00      0.00       610\n",
      "           1       0.08      0.99      0.16       562\n",
      "           2       0.00      0.00      0.00       622\n",
      "           3       0.00      0.00      0.00       603\n",
      "           4       0.00      0.00      0.00       595\n",
      "           5       0.00      0.00      0.00       623\n",
      "           6       0.00      0.00      0.00       602\n",
      "           7       0.00      0.00      0.00       566\n",
      "           8       0.00      0.00      0.00       592\n",
      "           9       0.00      0.00      0.00       598\n",
      "          10       0.00      0.00      0.00       627\n",
      "\n",
      "    accuracy                           0.08      6600\n",
      "   macro avg       0.01      0.09      0.01      6600\n",
      "weighted avg       0.01      0.08      0.01      6600\n",
      "\n"
     ]
    }
   ],
   "source": [
    "print(classification_report(y_test, m_nb_pred))"
   ]
  },
  {
   "cell_type": "code",
   "execution_count": 255,
   "id": "a4bfb381",
   "metadata": {},
   "outputs": [
    {
     "name": "stdout",
     "output_type": "stream",
     "text": [
      "              precision    recall  f1-score   support\n",
      "\n",
      "           0       1.00      0.98      0.99       610\n",
      "           1       1.00      0.58      0.74       562\n",
      "           2       0.86      0.54      0.66       622\n",
      "           3       0.91      0.93      0.92       603\n",
      "           4       0.98      0.94      0.96       595\n",
      "           5       0.29      0.99      0.45       623\n",
      "           6       0.92      0.90      0.91       602\n",
      "           7       1.00      0.95      0.97       566\n",
      "           8       1.00      0.93      0.96       592\n",
      "           9       0.98      0.26      0.42       598\n",
      "          10       0.95      0.23      0.37       627\n",
      "\n",
      "    accuracy                           0.75      6600\n",
      "   macro avg       0.90      0.75      0.76      6600\n",
      "weighted avg       0.90      0.75      0.76      6600\n",
      "\n"
     ]
    }
   ],
   "source": [
    "print(classification_report(y_test, KNN_model_pred))"
   ]
  },
  {
   "cell_type": "markdown",
   "id": "1f3617d2",
   "metadata": {},
   "source": [
    "## Apply model to test dataset"
   ]
  },
  {
   "cell_type": "code",
   "execution_count": 256,
   "id": "8f07201d",
   "metadata": {},
   "outputs": [],
   "source": [
    "# import and copy test dataset\n",
    "test = pd.read_csv(\"test_set.csv\")\n",
    "test_copy =test.copy()"
   ]
  },
  {
   "cell_type": "code",
   "execution_count": 257,
   "id": "895acc96",
   "metadata": {},
   "outputs": [],
   "source": [
    "test_copy['text'] = test_copy['text'].apply(remove_punctuations)"
   ]
  },
  {
   "cell_type": "code",
   "execution_count": 258,
   "id": "ca40d963",
   "metadata": {},
   "outputs": [],
   "source": [
    "test_copy['text']= test_copy['text'].apply(lambda text: cleaning_stopwords(text))"
   ]
  },
  {
   "cell_type": "code",
   "execution_count": null,
   "id": "4cc43381",
   "metadata": {},
   "outputs": [],
   "source": [
    "test_copy['text'] = test_copy['text'].apply(lambda text: cleaning_stopwords(text))"
   ]
  },
  {
   "cell_type": "code",
   "execution_count": 259,
   "id": "652b74e8",
   "metadata": {},
   "outputs": [],
   "source": [
    "test_vec=vector.transform(test_copy['text'])"
   ]
  },
  {
   "cell_type": "code",
   "execution_count": 260,
   "id": "8e428836",
   "metadata": {},
   "outputs": [],
   "source": [
    "m_nb_pred_test = m_nb.predict(test_vec)"
   ]
  },
  {
   "cell_type": "markdown",
   "id": "2ec804cc",
   "metadata": {},
   "source": [
    "#### Submission to Kaggle"
   ]
  },
  {
   "cell_type": "code",
   "execution_count": 261,
   "id": "be6c39b2",
   "metadata": {},
   "outputs": [],
   "source": [
    "output = test_copy[['index']]"
   ]
  },
  {
   "cell_type": "code",
   "execution_count": 262,
   "id": "055a1e91",
   "metadata": {},
   "outputs": [],
   "source": [
    "output['lang_id'] = m_nb_pred_test"
   ]
  },
  {
   "cell_type": "code",
   "execution_count": 263,
   "id": "7c0609db",
   "metadata": {},
   "outputs": [],
   "source": [
    "output['lang_id'] = enc.inverse_transform(output.lang_id)"
   ]
  },
  {
   "cell_type": "code",
   "execution_count": 265,
   "id": "3d15ffb1",
   "metadata": {},
   "outputs": [],
   "source": [
    "output.to_csv('m_nb_01.csv', index = False)"
   ]
  },
  {
   "cell_type": "code",
   "execution_count": null,
   "id": "fb2193a3",
   "metadata": {},
   "outputs": [],
   "source": []
  }
 ],
 "metadata": {
  "kernelspec": {
   "display_name": "Python 3 (ipykernel)",
   "language": "python",
   "name": "python3"
  },
  "language_info": {
   "codemirror_mode": {
    "name": "ipython",
    "version": 3
   },
   "file_extension": ".py",
   "mimetype": "text/x-python",
   "name": "python",
   "nbconvert_exporter": "python",
   "pygments_lexer": "ipython3",
   "version": "3.9.12"
  }
 },
 "nbformat": 4,
 "nbformat_minor": 5
}
